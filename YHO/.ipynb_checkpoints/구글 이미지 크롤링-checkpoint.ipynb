{
 "cells": [
  {
   "cell_type": "code",
   "execution_count": 8,
   "id": "1b4715bd",
   "metadata": {},
   "outputs": [
    {
     "name": "stdout",
     "output_type": "stream",
     "text": [
      "Requirement already satisfied: selenium in c:\\users\\user\\anaconda3\\lib\\site-packages (3.141.0)\n",
      "Requirement already satisfied: urllib3 in c:\\users\\user\\anaconda3\\lib\\site-packages (from selenium) (1.26.4)\n"
     ]
    },
    {
     "name": "stderr",
     "output_type": "stream",
     "text": [
      "'apt-get'은(는) 내부 또는 외부 명령, 실행할 수 있는 프로그램, 또는\n",
      "배치 파일이 아닙니다.\n"
     ]
    },
    {
     "name": "stdout",
     "output_type": "stream",
     "text": [
      "Requirement already satisfied: beautifulsoup4 in c:\\users\\user\\anaconda3\\lib\\site-packages (4.9.3)\n",
      "Requirement already satisfied: soupsieve>1.2 in c:\\users\\user\\anaconda3\\lib\\site-packages (from beautifulsoup4) (2.2.1)\n"
     ]
    },
    {
     "name": "stderr",
     "output_type": "stream",
     "text": [
      "'apt'은(는) 내부 또는 외부 명령, 실행할 수 있는 프로그램, 또는\n",
      "배치 파일이 아닙니다.\n"
     ]
    }
   ],
   "source": [
    "!pip install selenium\n",
    "!pip install beautifulsoup4"
   ]
  },
  {
   "cell_type": "code",
   "execution_count": 4,
   "id": "43bf838a",
   "metadata": {},
   "outputs": [],
   "source": [
    "########################################################################\n",
    "# 구글 이미지 크롤링 :  검색으로 이미지 가져오기\n",
    "# Selenium 을 쓰는 이유 : 브라우저를 직접 가동해서\n",
    "# 크롬 드라이버 다운로드 : https://chromedriver.chromium.org/downloads\n",
    "# 자신의 크롬 버전에 맞추어 다운로드!\n",
    "########################################################################\n",
    "from selenium import webdriver\n",
    "from bs4 import BeautifulSoup as soups\n",
    "import os"
   ]
  },
  {
   "cell_type": "code",
   "execution_count": 10,
   "id": "894b3a82",
   "metadata": {},
   "outputs": [
    {
     "name": "stdout",
     "output_type": "stream",
     "text": [
      "검색하고 싶은 키워드 : cat\n",
      "원하는 이미지 수집 개수 : 10\n"
     ]
    }
   ],
   "source": [
    "def createFolder(directory):\n",
    "    try:\n",
    "        if not os.path.exists(directory):\n",
    "            os.makedirs(directory)\n",
    "    except OSError:\n",
    "        print ('Error: Creating directory. ' +  directory)\n",
    "def search_selenium(search_name, search_limit) :\n",
    "    search_url = \"https://www.google.com/search?q=\" + str(search_name) + \"&hl=ko&tbm=isch\"\n",
    "    browser = webdriver.Chrome('C:/Users/user/인공지능 사관학교 수업/이미지 크롤링/chromedriver.exe')\n",
    "    browser.get(search_url)\n",
    "    image_count = len(browser.find_elements_by_tag_name(\"img\"))\n",
    "    browser.implicitly_wait(2) # data가 load될 때까지 2초간 기다려 준다.\n",
    "    image_save_folder = f\"C:/Users/user/인공지능 사관학교 수업/이미지 크롤링/images/{search_name}/\"\n",
    "    createFolder(image_save_folder)\n",
    "    for i in range( search_limit + 30 ) :\n",
    "        if i < 30:  # top 30개 이미지 skip (검색어와 무관함)\n",
    "            continue\n",
    "        image = browser.find_elements_by_tag_name(\"img\")[i]\n",
    "        image.screenshot(image_save_folder + str(i-29) + \".png\")\n",
    "#     browser.close()\n",
    "if __name__ == \"__main__\" :\n",
    "    search_name = input(\"검색하고 싶은 키워드 : \")\n",
    "    search_limit = int(input(\"원하는 이미지 수집 개수 : \"))\n",
    "    search_path = \"C:/Users/user/인공지능 사관학교 수업/이미지 크롤링\"\n",
    "    search_selenium(search_name, search_limit)"
   ]
  },
  {
   "cell_type": "code",
   "execution_count": null,
   "id": "e3f946ee",
   "metadata": {},
   "outputs": [],
   "source": []
  }
 ],
 "metadata": {
  "kernelspec": {
   "display_name": "Python 3",
   "language": "python",
   "name": "python3"
  },
  "language_info": {
   "codemirror_mode": {
    "name": "ipython",
    "version": 3
   },
   "file_extension": ".py",
   "mimetype": "text/x-python",
   "name": "python",
   "nbconvert_exporter": "python",
   "pygments_lexer": "ipython3",
   "version": "3.8.8"
  }
 },
 "nbformat": 4,
 "nbformat_minor": 5
}
